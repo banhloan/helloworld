{
 "cells": [
  {
   "cell_type": "code",
   "execution_count": 90,
   "metadata": {},
   "outputs": [
    {
     "name": "stdout",
     "output_type": "stream",
     "text": [
      "     Col1 Col2\n",
      "Row1    1    2\n",
      "Row2    3    4\n"
     ]
    }
   ],
   "source": [
    "import numpy as np\n",
    "import pandas as pd\n",
    "\n",
    "data = np.array([['','Col1','Col2'],\n",
    "                ['Row1',1,2],\n",
    "                ['Row2',3,4]])\n",
    "                \n",
    "print(pd.DataFrame(data=data[1:,1:], \n",
    "                  index=data[1:,0],\n",
    "                  columns=data[0,1:]))\n",
    "#indices start at 0\n",
    "#number to the left of colon indicates the starting index, and the right indicates ending index"
   ]
  },
  {
   "cell_type": "code",
   "execution_count": 91,
   "metadata": {},
   "outputs": [
    {
     "name": "stdout",
     "output_type": "stream",
     "text": [
      "   0  1  2\n",
      "0  1  2  3\n",
      "1  4  5  6\n",
      "==============\n",
      "   1  2  3\n",
      "0  1  1  2\n",
      "1  3  2  4\n",
      "==============\n",
      "   A\n",
      "0  4\n",
      "1  5\n",
      "2  6\n",
      "3  7\n",
      "==============\n",
      "                         0\n",
      "United Kingdom      London\n",
      "India            New Delhi\n",
      "United States   Washington\n",
      "Belgium           Brussels\n"
     ]
    }
   ],
   "source": [
    "# Take a 2D array as input to your DataFrame \n",
    "my_2darray = np.array([[1, 2, 3], [4, 5, 6]])\n",
    "print(pd.DataFrame(my_2darray))\n",
    "print(\"==============\")\n",
    "\n",
    "# Take a dictionary as input to your DataFrame \n",
    "my_dict = {1: ['1', '3'], 2: ['1', '2'], 3: ['2', '4']}\n",
    "print(pd.DataFrame(my_dict))\n",
    "print(\"==============\")\n",
    "# Take a DataFrame as input to your DataFrame \n",
    "my_df = pd.DataFrame(data=[4,5,6,7], index=range(0,4), columns=['A'])\n",
    "print(pd.DataFrame(my_df))\n",
    "print(\"==============\")\n",
    "# Take a Series as input to your DataFrame\n",
    "my_series = pd.Series({\"United Kingdom\":\"London\", \"India\":\"New Delhi\", \"United States\":\"Washington\", \n",
    "                       \"Belgium\":\"Brussels\"})\n",
    "print(pd.DataFrame(my_series))"
   ]
  },
  {
   "cell_type": "code",
   "execution_count": 92,
   "metadata": {},
   "outputs": [
    {
     "name": "stdout",
     "output_type": "stream",
     "text": [
      "   0  1  2\n",
      "0  1  2  3\n",
      "1  4  5  6\n",
      "=============\n",
      "(2, 3)\n",
      "=============\n",
      "2\n"
     ]
    },
    {
     "data": {
      "text/plain": [
       "[0, 1, 2]"
      ]
     },
     "execution_count": 92,
     "metadata": {},
     "output_type": "execute_result"
    }
   ],
   "source": [
    "df = pd.DataFrame(np.array([[1, 2, 3], [4, 5, 6]]))\n",
    "print(df)\n",
    "print(\"=============\")\n",
    "#shape shows the dimension of a dataframe - height and width\n",
    "print(df.shape)\n",
    "print(\"=============\")\n",
    "\n",
    "#len()gives the height of the dataframe\n",
    "print(len(df.index))\n",
    "\n",
    "list(df.columns.values)"
   ]
  },
  {
   "cell_type": "code",
   "execution_count": 93,
   "metadata": {},
   "outputs": [
    {
     "name": "stdout",
     "output_type": "stream",
     "text": [
      "   0  1  2\n",
      "0  1  2  3\n",
      "1  4  5  6\n",
      "=============\n",
      "   0  1  2\n",
      "0  1  2  3\n",
      "a  4  5  6\n"
     ]
    }
   ],
   "source": [
    "# Check out your DataFrame `df`\n",
    "print(df)\n",
    "print(\"=============\")\n",
    "\n",
    "# Define the new names of your columns\n",
    "newcols = {\n",
    "    '0': 'A', \n",
    "    '1': 'B', \n",
    "    '2': 'C'\n",
    "}\n",
    "\n",
    "# Use `rename()` to rename your columns\n",
    "df.rename(columns=newcols, inplace=True)\n",
    "\n",
    "# Rename your index\n",
    "df.rename(index={1: 'a'}, inplace=True)\n",
    "print(df)"
   ]
  },
  {
   "cell_type": "code",
   "execution_count": 94,
   "metadata": {},
   "outputs": [
    {
     "name": "stdout",
     "output_type": "stream",
     "text": [
      "   0  1  2\n",
      "1  1  2  3\n",
      "2  4  5  6\n"
     ]
    }
   ],
   "source": [
    "# Use `reset_index()` to reset the values\n",
    "df.reset_index(level=0, drop=True)\n",
    "\n",
    "#resetting index to start from 1\n",
    "df.index = np.arange(1, len(df) + 1)\n",
    "print(df)"
   ]
  },
  {
   "cell_type": "code",
   "execution_count": 95,
   "metadata": {},
   "outputs": [
    {
     "name": "stdout",
     "output_type": "stream",
     "text": [
      "    0   1   2\n",
      "1   1   2   3\n",
      "2   4   5   6\n",
      "3  11  12  13\n",
      "=============\n",
      "    0   1   2\n",
      "1   1   2   3\n",
      "2   4   5   6\n",
      "3  60  50  40\n"
     ]
    }
   ],
   "source": [
    "# This will make an index labeled `3` and add the new values. Loc looks at the lable of the index. \n",
    "df.loc[3] = [11, 12, 13]\n",
    "print(df)\n",
    "print(\"=============\")\n",
    "\n",
    "# iloc looks at the position of the index. In this case, \"2\" refers to the index with position \"2\".\n",
    "df.iloc[2] = [60, 50, 40]\n",
    "print(df)\n"
   ]
  },
  {
   "cell_type": "code",
   "execution_count": 96,
   "metadata": {},
   "outputs": [
    {
     "name": "stdout",
     "output_type": "stream",
     "text": [
      "1\n",
      "================\n",
      "0    1\n",
      "1    2\n",
      "2    3\n",
      "Name: 1, dtype: int64\n",
      "================\n",
      "1     1\n",
      "2     4\n",
      "3    60\n",
      "Name: 0, dtype: int64\n"
     ]
    }
   ],
   "source": [
    "# Using `iloc[]` to select an element\n",
    "print(df.iloc[0][0])\n",
    "print(\"================\")\n",
    "\n",
    "# Use `iloc[]` to select a row\n",
    "print(df.iloc[0])\n",
    "print(\"================\")\n",
    "\n",
    "# Use `loc[]` to select a column\n",
    "print(df.loc[:,0])"
   ]
  },
  {
   "cell_type": "code",
   "execution_count": 97,
   "metadata": {},
   "outputs": [
    {
     "name": "stdout",
     "output_type": "stream",
     "text": [
      "    0   1   2\n",
      "1   1   2   3\n",
      "2   4   5   6\n",
      "3  60  50  40\n",
      "=============\n",
      "    0   1   2   3\n",
      "1   1   2   3  10\n",
      "2   4   5   6  11\n",
      "3  60  50  40  12\n"
     ]
    }
   ],
   "source": [
    "print(df)\n",
    "print(\"=============\")\n",
    "\n",
    "# Append a column to `df`\n",
    "df.loc[:, 3] = pd.Series([10, 11,12], index=df.index)\n",
    "\n",
    "# Print out `df` again to see the changes\n",
    "print(df)"
   ]
  },
  {
   "cell_type": "code",
   "execution_count": 98,
   "metadata": {},
   "outputs": [
    {
     "name": "stdout",
     "output_type": "stream",
     "text": [
      "    0   2   3\n",
      "1   1   3  10\n",
      "2   4   6  11\n",
      "3  60  40  12\n"
     ]
    }
   ],
   "source": [
    "# Drop the column at position 1\n",
    "df.drop(df.columns[[1]], axis=1,inplace=True) \n",
    "#The axis argument is either 0 when it indicates rows and 1 when it is used to drop columns\n",
    "print(df)"
   ]
  },
  {
   "cell_type": "code",
   "execution_count": 99,
   "metadata": {},
   "outputs": [
    {
     "name": "stdout",
     "output_type": "stream",
     "text": [
      "    Student 1 Student 2   Student 3\n",
      "0          Ok   Perfect  Acceptable\n",
      "1       Awful     Awful     Perfect\n",
      "2  Acceptable        Ok        Poor\n",
      "====================\n",
      "   Student 1  Student 2  Student 3\n",
      "0          2          4          3\n",
      "1          0          0          4\n",
      "2          3          2          1\n"
     ]
    }
   ],
   "source": [
    "example_df = pd.DataFrame({\"Student 1\": ['Ok', 'Awful','Acceptable'], 'Student 2': ['Perfect', 'Awful','Ok'],\n",
    "              'Student 3': ['Acceptable', 'Perfect','Poor']})\n",
    "print(example_df)\n",
    "print(\"====================\")\n",
    "# Replace the strings by numerical values (0-4)\n",
    "example_df.replace(['Awful', 'Poor', 'Ok', 'Acceptable', 'Perfect'], [0, 1, 2, 3, 4],inplace = True) \n",
    "print(example_df)"
   ]
  },
  {
   "cell_type": "code",
   "execution_count": 100,
   "metadata": {},
   "outputs": [
    {
     "name": "stdout",
     "output_type": "stream",
     "text": [
      "    0   2   3\n",
      "1   1   3  10\n",
      "2   4   6  11\n",
      "3  60  40  12\n",
      "==========\n",
      "0     8\n",
      "2    12\n",
      "3    22\n",
      "Name: 2, dtype: int64\n"
     ]
    }
   ],
   "source": [
    "print(df)\n",
    "print('==========')\n",
    "doubler = lambda x: x*2\n",
    "#Apply the `doubler` function to the index with position 1\n",
    "df_doubler = df.loc[2].map(doubler)\n",
    "print(df_doubler)"
   ]
  },
  {
   "cell_type": "code",
   "execution_count": 101,
   "metadata": {},
   "outputs": [
    {
     "name": "stdout",
     "output_type": "stream",
     "text": [
      "    0   2   3\n",
      "1   2   6  10\n",
      "2   4   6  22\n",
      "3  60  40  12\n"
     ]
    }
   ],
   "source": [
    "def doubler(x):\n",
    "    if x % 2 == 0:\n",
    "        return x\n",
    "    else:\n",
    "        return x * 2\n",
    "\n",
    "# Use `applymap()` to apply `doubler()` to your DataFrame\n",
    "doubled_df = df.applymap(doubler)\n",
    "\n",
    "# Check the DataFrame\n",
    "print(doubled_df)"
   ]
  },
  {
   "cell_type": "code",
   "execution_count": 102,
   "metadata": {},
   "outputs": [
    {
     "name": "stdout",
     "output_type": "stream",
     "text": [
      "    A\n",
      "0 NaN\n",
      "1 NaN\n",
      "2 NaN\n",
      "3 NaN\n"
     ]
    }
   ],
   "source": [
    "empty_df = pd.DataFrame(np.nan, index=[0,1,2,3], columns=['A'])\n",
    "print(empty_df)"
   ]
  },
  {
   "cell_type": "code",
   "execution_count": 103,
   "metadata": {},
   "outputs": [
    {
     "name": "stdout",
     "output_type": "stream",
     "text": [
      "        category    store   price  testscore\n",
      "0       Cleaning  Walmart   11.42          4\n",
      "1       Cleaning      Dia   23.50          3\n",
      "2  Entertainment  Walmart   19.99          5\n",
      "3  Entertainment     Fnac   15.95          7\n",
      "4           Tech      Dia   55.75          5\n",
      "5           Tech  Walmart  111.55          8\n",
      "========\n",
      "store            Dia   Fnac  Walmart\n",
      "category                            \n",
      "Cleaning       23.50    NaN    11.42\n",
      "Entertainment    NaN  15.95    19.99\n",
      "Tech           55.75    NaN   111.55\n"
     ]
    }
   ],
   "source": [
    "# Create your DataFrame\n",
    "products = pd.DataFrame({'category': ['Cleaning', 'Cleaning', 'Entertainment', 'Entertainment', 'Tech', 'Tech'],\n",
    "        'store': ['Walmart', 'Dia', 'Walmart', 'Fnac', 'Dia','Walmart'],\n",
    "        'price':[11.42, 23.50, 19.99, 15.95, 55.75, 111.55],\n",
    "        'testscore': [4, 3, 5, 7, 5, 8]})\n",
    "        \n",
    "print(products)\n",
    "print(\"========\")\n",
    "\n",
    "# Use `pivot()` to pivot the DataFrame\n",
    "pivot_products = products.pivot(index='category', columns='store', values='price')\n",
    "#values allows you to specify which values of your original DataFrame you want to see in your pivot table.\n",
    "#columns: whatever you pass to this argument will become a column in your resulting table.\n",
    "#index: whatever you pass to this argument will become an index in your resulting table.\n",
    "\n",
    "print(pivot_products)"
   ]
  },
  {
   "cell_type": "code",
   "execution_count": 104,
   "metadata": {},
   "outputs": [
    {
     "name": "stdout",
     "output_type": "stream",
     "text": [
      "        category    store   price  testscore\n",
      "0       Cleaning  Walmart   11.42          4\n",
      "1       Cleaning      Dia   23.50          3\n",
      "2  Entertainment  Walmart   19.99          5\n",
      "3  Entertainment     Fnac   15.95          7\n",
      "4           Tech      Dia   19.99          5\n",
      "5           Tech  Walmart  111.55          8\n",
      "=================\n",
      "store            Dia   Fnac  Walmart\n",
      "category                            \n",
      "Cleaning       23.50    NaN    11.42\n",
      "Entertainment    NaN  15.95    19.99\n",
      "Tech           19.99    NaN   111.55\n"
     ]
    }
   ],
   "source": [
    "products2 = pd.DataFrame({'category': ['Cleaning', 'Cleaning', 'Entertainment', 'Entertainment', 'Tech', 'Tech'],\n",
    "                        'store': ['Walmart', 'Dia', 'Walmart', 'Fnac', 'Dia','Walmart'],\n",
    "                        'price':[11.42, 23.50, 19.99, 15.95, 19.99, 111.55],\n",
    "                        'testscore': [4, 3, 5, 7, 5, 8]})\n",
    "print(products2)\n",
    "print(\"=================\")\n",
    "# Pivot your `products` DataFrame with `pivot_table()`\n",
    "pivot_products2 = products2.pivot_table(index='category', columns='store', values='price', aggfunc='mean')\n",
    "\n",
    "# Check out the results\n",
    "print(pivot_products2)"
   ]
  },
  {
   "cell_type": "code",
   "execution_count": 105,
   "metadata": {},
   "outputs": [
    {
     "name": "stdout",
     "output_type": "stream",
     "text": [
      "  FirstName LastName BloodType  Weight\n",
      "0      John      Doe        A-      90\n",
      "1      Jane   Austen        B+      64\n",
      "================\n",
      "  FirstName LastName measurements value\n",
      "0      John      Doe    BloodType    A-\n",
      "1      Jane   Austen    BloodType    B+\n",
      "2      John      Doe       Weight    90\n",
      "3      Jane   Austen       Weight    64\n"
     ]
    }
   ],
   "source": [
    "# The `people` DataFrame\n",
    "people = pd.DataFrame({'FirstName' : ['John', 'Jane'],\n",
    "                       'LastName' : ['Doe', 'Austen'],\n",
    "                       'BloodType' : ['A-', 'B+'],\n",
    "                       'Weight' : [90, 64]})\n",
    "print(people)\n",
    "print(\"================\")\n",
    "# Use `melt()` on the `people` DataFrame\n",
    "print(pd.melt(people, id_vars=['FirstName', 'LastName'], var_name='measurements'))"
   ]
  },
  {
   "cell_type": "code",
   "execution_count": 107,
   "metadata": {},
   "outputs": [
    {
     "name": "stdout",
     "output_type": "stream",
     "text": [
      "   A  B  C\n",
      "0  1  2  3\n",
      "1  4  5  6\n",
      "2  7  8  9\n",
      "=========\n",
      "1 2\n",
      "4 5\n",
      "7 8\n"
     ]
    }
   ],
   "source": [
    "df = pd.DataFrame(data=np.array([[1, 2, 3], [4, 5, 6], [7, 8, 9]]), columns=['A', 'B', 'C'])\n",
    "print(df)\n",
    "print('=========')\n",
    "for index, row in df.iterrows(): #iterate over the DataFrame\n",
    "    print(row['A'], row['B'])"
   ]
  },
  {
   "cell_type": "code",
   "execution_count": null,
   "metadata": {},
   "outputs": [],
   "source": []
  }
 ],
 "metadata": {
  "kernelspec": {
   "display_name": "Python 3",
   "language": "python",
   "name": "python3"
  },
  "language_info": {
   "codemirror_mode": {
    "name": "ipython",
    "version": 3
   },
   "file_extension": ".py",
   "mimetype": "text/x-python",
   "name": "python",
   "nbconvert_exporter": "python",
   "pygments_lexer": "ipython3",
   "version": "3.7.1"
  }
 },
 "nbformat": 4,
 "nbformat_minor": 2
}
