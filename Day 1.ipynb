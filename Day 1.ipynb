{
 "cells": [
  {
   "cell_type": "code",
   "execution_count": 9,
   "metadata": {},
   "outputs": [
    {
     "name": "stdout",
     "output_type": "stream",
     "text": [
      "Banh Loan\n"
     ]
    }
   ],
   "source": [
    "#learning variables assignment\n",
    "surname = \"Banh\"\n",
    "name = \"Loan\"\n",
    "print(surname + \" \" + name)"
   ]
  },
  {
   "cell_type": "code",
   "execution_count": 25,
   "metadata": {},
   "outputs": [
    {
     "name": "stdout",
     "output_type": "stream",
     "text": [
      "Banh Loan\n"
     ]
    }
   ],
   "source": [
    "#learning classes\n",
    "class Person:\n",
    "    def __init__(self,surname,name): #defining characterisitcs of the Person\n",
    "        # instantiating variables\n",
    "        self.surname = surname\n",
    "        self.name = name\n",
    "        self.fullName = surname + \" \" + name\n",
    "    \n",
    "me = Person(\"Banh\",\"Loan\")\n",
    "\n",
    "print(me.fullName)"
   ]
  },
  {
   "cell_type": "code",
   "execution_count": 28,
   "metadata": {},
   "outputs": [
    {
     "name": "stdout",
     "output_type": "stream",
     "text": [
      "Seet Loan\n"
     ]
    }
   ],
   "source": [
    "#learning methods \n",
    "def update(person):\n",
    "    person.fullName = person.surname + \" \" + person.name\n",
    "    print(person.fullName)\n",
    "    \n",
    "def marry(bfSurname,person): #defining the marry method\n",
    "    person.surname = bfSurname \n",
    "    update(person)\n",
    "    \n",
    "marry(\"Seet\", me)"
   ]
  },
  {
   "cell_type": "code",
   "execution_count": 44,
   "metadata": {},
   "outputs": [],
   "source": [
    "#learning inheritance and for loops\n",
    "class Wife(Person):\n",
    "    def __init__(self, person, husbandName):\n",
    "        super().__init__(person.surname, person.name) #assigning characteristics of Person\n",
    "        self.husband = husbandName \n",
    "    \n",
    "    def proclamation(self,numberOfTimes): \n",
    "        print(self.fullName)\n",
    "        for i in range(numberOfTimes): #variable for numberOfTimes\n",
    "            print(\"Love\")\n",
    "        print(self.husband)"
   ]
  },
  {
   "cell_type": "code",
   "execution_count": 46,
   "metadata": {},
   "outputs": [
    {
     "name": "stdout",
     "output_type": "stream",
     "text": [
      "Seet Loan\n",
      "Love\n",
      "Love\n",
      "Love\n",
      "Love\n",
      "Love\n",
      "Love\n",
      "Love\n",
      "Love\n",
      "Love\n",
      "Love\n",
      "Jorden\n"
     ]
    }
   ],
   "source": [
    "marriedMe = Wife(me,\"Jorden\")\n",
    "marriedMe.proclamation(10)"
   ]
  },
  {
   "cell_type": "code",
   "execution_count": null,
   "metadata": {},
   "outputs": [],
   "source": []
  }
 ],
 "metadata": {
  "kernelspec": {
   "display_name": "Python 3",
   "language": "python",
   "name": "python3"
  },
  "language_info": {
   "codemirror_mode": {
    "name": "ipython",
    "version": 3
   },
   "file_extension": ".py",
   "mimetype": "text/x-python",
   "name": "python",
   "nbconvert_exporter": "python",
   "pygments_lexer": "ipython3",
   "version": "3.7.1"
  }
 },
 "nbformat": 4,
 "nbformat_minor": 2
}
