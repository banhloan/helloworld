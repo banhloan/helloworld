{
 "cells": [
  {
   "cell_type": "code",
   "execution_count": 3,
   "metadata": {},
   "outputs": [
    {
     "name": "stdout",
     "output_type": "stream",
     "text": [
      "1570217314.575001\n"
     ]
    }
   ],
   "source": [
    "#In coding, many times, codes that we want to write for a purpose has already been written. In this case, we can use \n",
    "#codes that have already been written by importing it. \n",
    "import time \n",
    "timeNow = time.time()\n",
    "print(timeNow)\n",
    "#this is the number of seconds since January 1st, 1970 in UTC. \n",
    "#This is useful when we want to manipulate the difference between timestamps. "
   ]
  },
  {
   "cell_type": "code",
   "execution_count": 5,
   "metadata": {},
   "outputs": [
    {
     "name": "stdout",
     "output_type": "stream",
     "text": [
      "2019-10-04 21:32:25.141400\n"
     ]
    }
   ],
   "source": [
    "#If we want to have time in a presentable format, we use date time\n",
    "import datetime\n",
    "timeNow = datetime.datetime.now() #datetime calls a class called datetime, which calls the now method inside the datetime class\n",
    "#the datetime library has many classes, such as date, time and datetime.\n",
    "# That is why we have to specify that are calling datetime class.\n",
    "print(timeNow)"
   ]
  },
  {
   "cell_type": "code",
   "execution_count": 14,
   "metadata": {},
   "outputs": [
    {
     "data": {
      "text/plain": [
       "2"
      ]
     },
     "execution_count": 14,
     "metadata": {},
     "output_type": "execute_result"
    }
   ],
   "source": [
    "#learning to make a dice\n",
    "#the first step in making a dice is to have a random factor. We can use the current time to provide a source for random\n",
    "#numbers generation. \n",
    "timeNow = time.time()\n",
    "#we want to utilise the numbers in the current time to randomly generate a number. \n",
    "#this can be done by splitting the numbers into individual numbers, then applying mathematical operators to it. \n",
    "def randomlyGenerate():\n",
    "    timeNOW = str(timeNow)\n",
    "    currentTime = timeNOW.replace(\".\",\"\")\n",
    "    currentTIME = int(currentTime)\n",
    "    randomNumber = currentTIME%7 \n",
    "    return randomNumber\n",
    "randomlyGenerate()"
   ]
  },
  {
   "cell_type": "code",
   "execution_count": 15,
   "metadata": {},
   "outputs": [
    {
     "ename": "ModuleNotFoundError",
     "evalue": "No module named 'dice'",
     "output_type": "error",
     "traceback": [
      "\u001b[0;31m---------------------------------------------------------------------------\u001b[0m",
      "\u001b[0;31mModuleNotFoundError\u001b[0m                       Traceback (most recent call last)",
      "\u001b[0;32m<ipython-input-15-70339b9c07c1>\u001b[0m in \u001b[0;36m<module>\u001b[0;34m\u001b[0m\n\u001b[1;32m      1\u001b[0m \u001b[0;31m#however, I am sure someone has already made such a random dice generator. In reality, I shouldn't need to code this.\u001b[0m\u001b[0;34m\u001b[0m\u001b[0;34m\u001b[0m\u001b[0;34m\u001b[0m\u001b[0m\n\u001b[1;32m      2\u001b[0m \u001b[0;31m#a quick google search shows that there is a dice library that i can import.\u001b[0m\u001b[0;34m\u001b[0m\u001b[0;34m\u001b[0m\u001b[0;34m\u001b[0m\u001b[0m\n\u001b[0;32m----> 3\u001b[0;31m \u001b[0;32mimport\u001b[0m \u001b[0mdice\u001b[0m\u001b[0;34m\u001b[0m\u001b[0;34m\u001b[0m\u001b[0m\n\u001b[0m",
      "\u001b[0;31mModuleNotFoundError\u001b[0m: No module named 'dice'"
     ]
    }
   ],
   "source": [
    "#however, I am sure someone has already made such a random dice generator. In reality, I shouldn't need to code this.\n",
    "#a quick google search shows that there is a dice library that i can import. \n",
    "import dice "
   ]
  },
  {
   "cell_type": "code",
   "execution_count": 16,
   "metadata": {},
   "outputs": [
    {
     "ename": "NameError",
     "evalue": "name 'dice' is not defined",
     "output_type": "error",
     "traceback": [
      "\u001b[0;31m---------------------------------------------------------------------------\u001b[0m",
      "\u001b[0;31mNameError\u001b[0m                                 Traceback (most recent call last)",
      "\u001b[0;32m<ipython-input-16-05f9d0f53ccf>\u001b[0m in \u001b[0;36m<module>\u001b[0;34m\u001b[0m\n\u001b[1;32m      3\u001b[0m \u001b[0;31m#Go to Terminal, type \"pip install dice\" to import dice\u001b[0m\u001b[0;34m\u001b[0m\u001b[0;34m\u001b[0m\u001b[0;34m\u001b[0m\u001b[0m\n\u001b[1;32m      4\u001b[0m \u001b[0;31m#for a library called xxx, type \"pip install xxx\"\u001b[0m\u001b[0;34m\u001b[0m\u001b[0;34m\u001b[0m\u001b[0;34m\u001b[0m\u001b[0m\n\u001b[0;32m----> 5\u001b[0;31m \u001b[0mdice\u001b[0m\u001b[0;34m.\u001b[0m\u001b[0mroll\u001b[0m\u001b[0;34m(\u001b[0m\u001b[0;34m)\u001b[0m\u001b[0;34m\u001b[0m\u001b[0;34m\u001b[0m\u001b[0m\n\u001b[0m",
      "\u001b[0;31mNameError\u001b[0m: name 'dice' is not defined"
     ]
    }
   ],
   "source": [
    "#there is no module called dice. This is because someone else wrote this and it is not inside Python's default library. \n",
    "#Therefore, importing it from Python's default library would not work. To make this work, I have to install the library. \n",
    "#Go to Terminal, type \"pip install dice\" to import dice\n",
    "#for a library called xxx, type \"pip install xxx\"\n",
    "dice.roll()"
   ]
  },
  {
   "cell_type": "code",
   "execution_count": 17,
   "metadata": {},
   "outputs": [
    {
     "ename": "TypeError",
     "evalue": "roll() missing 1 required positional argument: 'string'",
     "output_type": "error",
     "traceback": [
      "\u001b[0;31m---------------------------------------------------------------------------\u001b[0m",
      "\u001b[0;31mTypeError\u001b[0m                                 Traceback (most recent call last)",
      "\u001b[0;32m<ipython-input-17-792bff029adb>\u001b[0m in \u001b[0;36m<module>\u001b[0;34m\u001b[0m\n\u001b[1;32m      1\u001b[0m \u001b[0;31m#the reason error happens is because I did not import the library.\u001b[0m\u001b[0;34m\u001b[0m\u001b[0;34m\u001b[0m\u001b[0;34m\u001b[0m\u001b[0m\n\u001b[1;32m      2\u001b[0m \u001b[0;32mimport\u001b[0m \u001b[0mdice\u001b[0m\u001b[0;34m\u001b[0m\u001b[0;34m\u001b[0m\u001b[0m\n\u001b[0;32m----> 3\u001b[0;31m \u001b[0mdice\u001b[0m\u001b[0;34m.\u001b[0m\u001b[0mroll\u001b[0m\u001b[0;34m(\u001b[0m\u001b[0;34m)\u001b[0m\u001b[0;34m\u001b[0m\u001b[0;34m\u001b[0m\u001b[0m\n\u001b[0m",
      "\u001b[0;31mTypeError\u001b[0m: roll() missing 1 required positional argument: 'string'"
     ]
    }
   ],
   "source": [
    "#the reason error happens is because I did not import the library. \n",
    "import dice \n",
    "dice.roll()"
   ]
  },
  {
   "cell_type": "code",
   "execution_count": 29,
   "metadata": {},
   "outputs": [
    {
     "data": {
      "text/plain": [
       "Roll([1], random_element=Dice(1, 6))"
      ]
     },
     "execution_count": 29,
     "metadata": {},
     "output_type": "execute_result"
    }
   ],
   "source": [
    "dice.roll('1d6')"
   ]
  },
  {
   "cell_type": "code",
   "execution_count": 38,
   "metadata": {},
   "outputs": [
    {
     "name": "stdout",
     "output_type": "stream",
     "text": [
      "0\n"
     ]
    }
   ],
   "source": [
    "#make a random number generator that can generate numbers from 0 to 10. \n",
    "import random \n",
    "print(random.randint(0,10))"
   ]
  },
  {
   "cell_type": "code",
   "execution_count": 46,
   "metadata": {},
   "outputs": [
    {
     "name": "stdout",
     "output_type": "stream",
     "text": [
      "Made a toy!\n",
      "Made a toy!\n",
      "Made a toy!\n",
      "Made a toy!\n",
      "Made a toy!\n",
      "Made a toy!\n",
      "Made a toy!\n",
      "Made a toy!\n",
      "Made a toy!\n",
      "Made a toy!\n",
      "Made a toy!\n",
      "Made a toy!\n",
      "Made a toy!\n",
      "Made a toy!\n",
      "Made a toy!\n",
      "Made a toy!\n",
      "Made a toy!\n",
      "Made a toy!\n",
      "Made a toy!\n",
      "Made a toy!\n",
      "Made a toy!\n",
      "Made a toy!\n",
      "Made a toy!\n",
      "Made a toy!\n",
      "Made a toy!\n",
      "Made a toy!\n",
      "Made a toy!\n",
      "Made a toy!\n",
      "Made a toy!\n",
      "Made a toy!\n",
      "Made a toy!\n",
      "Made a toy!\n",
      "Made a toy!\n",
      "Made a toy!\n",
      "Made a toy!\n",
      "Made a toy!\n",
      "Made a toy!\n",
      "Made a toy!\n",
      "Made a toy!\n",
      "Made a toy!\n",
      "Made a toy!\n",
      "Made a toy!\n",
      "Made a toy!\n",
      "Made a toy!\n",
      "Made a toy!\n",
      "Made a toy!\n",
      "Made a toy!\n",
      "Made a toy!\n",
      "Made a toy!\n",
      "Made a toy!\n",
      "Made a toy!\n",
      "Made a toy!\n",
      "Made a toy!\n",
      "Made a toy!\n",
      "Made a toy!\n",
      "Made a toy!\n",
      "Made a toy!\n",
      "Made a toy!\n",
      "Made a toy!\n",
      "Made a toy!\n",
      "Made a toy!\n",
      "Made a toy!\n",
      "Made a toy!\n",
      "Made a toy!\n",
      "Oh no, machine is spoilt! The machine made 64 toys\n"
     ]
    }
   ],
   "source": [
    "#learning while loops\n",
    "#while loops are similar to for loops, except in for loops, the number of loops must be defined. \n",
    "#while loops exit when a condition is met, but the number of loops need not be defined. \n",
    "#the scenario is a toy making machine that randomly spoils. \n",
    "def makeToys():\n",
    "    count = 0\n",
    "    while random.randint(0,30) != 0: #!= means not equal to...\n",
    "        count += 1\n",
    "        print(\"Made a toy!\")\n",
    "    print(\"Oh no, machine is spoilt! The machine made \" + str(count) + \" toys\")\n",
    "makeToys()"
   ]
  },
  {
   "cell_type": "code",
   "execution_count": 60,
   "metadata": {},
   "outputs": [
    {
     "name": "stdout",
     "output_type": "stream",
     "text": [
      "Made a toy!\n",
      "Made a toy!\n",
      "Made a toy!\n",
      "Made a toy!\n",
      "Made a toy!\n",
      "Made a toy!\n",
      "Made a toy!\n",
      "Made a toy!\n",
      "Made a toy!\n",
      "Made a toy!\n",
      "Made a toy!\n",
      "Made a toy!\n",
      "Made a toy!\n",
      "Made a toy!\n",
      "Made a toy!\n",
      "Made a toy!\n",
      "Made a toy!\n",
      "Made a toy!\n",
      "Made a toy!\n",
      "Made a toy!\n",
      "Made a toy!\n",
      "Made a toy!\n",
      "Made a toy!\n",
      "Made a toy!\n",
      "Made a toy!\n",
      "Made a toy!\n",
      "Made a toy!\n",
      "Made a toy!\n",
      "Made a toy!\n",
      "Made a toy!\n",
      "Made a toy!\n",
      "Made a toy!\n",
      "Made a toy!\n",
      "Made a toy!\n",
      "Machine is restarted! The machine made 34 toys\n"
     ]
    }
   ],
   "source": [
    "#Continue scenario: If a worker is near the machine, he is able to restart the machine. \n",
    "#The machine is checked once at 6pm. However, the worker responsible for checking the machine is lazy and takes coffee\n",
    "#breaks. There is a 60% chance that a worker is near the machine at that time. \n",
    "#learning if else conditions\n",
    "def generateToys(): \n",
    "    toyCount = 0\n",
    "    while random.randint(0,30) != 0: #!= means not equal to...\n",
    "        toyCount += 1\n",
    "        print(\"Made a toy!\")\n",
    "    return toyCount\n",
    "        \n",
    "def startMachine():\n",
    "    count = 0\n",
    "    count += generateToys()\n",
    "    if random.randint(1,10) < 7:\n",
    "        count+= generateToys()\n",
    "        print(\"Machine is restarted! The machine made \" + str(count) + \" toys\")\n",
    "    else:\n",
    "        print(\"Oh no, machine is spoilt! The machine made \" + str(count) + \" toys\")\n",
    "startMachine()"
   ]
  },
  {
   "cell_type": "code",
   "execution_count": 83,
   "metadata": {},
   "outputs": [
    {
     "name": "stdout",
     "output_type": "stream",
     "text": [
      "Oh no, the worker didn't check the machine at 8am. The machine made 0 toys.\n",
      "Machine is started by worker at 10am.\n",
      "Made a toy!\n",
      "Made a toy!\n",
      "Made a toy!\n",
      "Made a toy!\n",
      "Made a toy!\n",
      "Made a toy!\n",
      "Made a toy!\n",
      "Made a toy!\n",
      "Made a toy!\n",
      "Made a toy!\n",
      "Made a toy!\n",
      "Made a toy!\n",
      "Made a toy!\n",
      "Made a toy!\n",
      "Made a toy!\n",
      "Made a toy!\n",
      "Made a toy!\n",
      "Made a toy!\n",
      "Made a toy!\n",
      "Made a toy!\n",
      "Made a toy!\n",
      "Made a toy!\n",
      "Made a toy!\n",
      "Made a toy!\n",
      "Made a toy!\n",
      "Made a toy!\n",
      "Made a toy!\n",
      "Made a toy!\n",
      "Made a toy!\n",
      "Made a toy!\n",
      "Made a toy!\n",
      "Made a toy!\n",
      "Made a toy!\n",
      "Made a toy!\n",
      "Made a toy!\n",
      "Made a toy!\n",
      "Made a toy!\n",
      "Made a toy!\n",
      "Made a toy!\n",
      "Made a toy!\n",
      "Made a toy!\n",
      "Made a toy!\n",
      "Made a toy!\n",
      "Made a toy!\n",
      "Made a toy!\n",
      "Made a toy!\n",
      "Made a toy!\n",
      "Made a toy!\n",
      "Made a toy!\n",
      "Made a toy!\n",
      "Made a toy!\n",
      "Made a toy!\n",
      "Made a toy!\n",
      "Made a toy!\n",
      "Made a toy!\n",
      "Made a toy!\n",
      "Made a toy!\n",
      "Made a toy!\n",
      "Made a toy!\n",
      "Made a toy!\n",
      "Made a toy!\n",
      "Made a toy!\n",
      "Made a toy!\n",
      "Made a toy!\n",
      "Made a toy!\n",
      "Made a toy!\n",
      "Made a toy!\n",
      "Made a toy!\n",
      "Made a toy!\n",
      "Made a toy!\n",
      "Made a toy!\n",
      "Made a toy!\n",
      "Made a toy!\n",
      "Made a toy!\n",
      "Made a toy!\n",
      "Made a toy!\n",
      "Oh no, machine is spoilt. Machine generated 76 toys.\n",
      "Oh no, the worker didn't check the machine at 12pm. The machine made 76 toys.\n",
      "Machine is started by worker at 2pm.\n",
      "Made a toy!\n",
      "Made a toy!\n",
      "Made a toy!\n",
      "Made a toy!\n",
      "Made a toy!\n",
      "Made a toy!\n",
      "Made a toy!\n",
      "Made a toy!\n",
      "Made a toy!\n",
      "Made a toy!\n",
      "Made a toy!\n",
      "Made a toy!\n",
      "Made a toy!\n",
      "Made a toy!\n",
      "Made a toy!\n",
      "Made a toy!\n",
      "Made a toy!\n",
      "Made a toy!\n",
      "Made a toy!\n",
      "Made a toy!\n",
      "Made a toy!\n",
      "Made a toy!\n",
      "Made a toy!\n",
      "Made a toy!\n",
      "Made a toy!\n",
      "Made a toy!\n",
      "Made a toy!\n",
      "Made a toy!\n",
      "Made a toy!\n",
      "Made a toy!\n",
      "Made a toy!\n",
      "Made a toy!\n",
      "Made a toy!\n",
      "Made a toy!\n",
      "Made a toy!\n",
      "Made a toy!\n",
      "Made a toy!\n",
      "Made a toy!\n",
      "Made a toy!\n",
      "Made a toy!\n",
      "Made a toy!\n",
      "Made a toy!\n",
      "Made a toy!\n",
      "Made a toy!\n",
      "Made a toy!\n",
      "Made a toy!\n",
      "Made a toy!\n",
      "Made a toy!\n",
      "Made a toy!\n",
      "Made a toy!\n",
      "Made a toy!\n",
      "Made a toy!\n",
      "Made a toy!\n",
      "Made a toy!\n",
      "Made a toy!\n",
      "Made a toy!\n",
      "Made a toy!\n",
      "Made a toy!\n",
      "Made a toy!\n",
      "Made a toy!\n",
      "Made a toy!\n",
      "Made a toy!\n",
      "Made a toy!\n",
      "Made a toy!\n",
      "Made a toy!\n",
      "Made a toy!\n",
      "Made a toy!\n",
      "Made a toy!\n",
      "Made a toy!\n",
      "Made a toy!\n",
      "Made a toy!\n",
      "Made a toy!\n",
      "Made a toy!\n",
      "Made a toy!\n",
      "Made a toy!\n",
      "Made a toy!\n",
      "Made a toy!\n",
      "Made a toy!\n",
      "Made a toy!\n",
      "Made a toy!\n",
      "Made a toy!\n",
      "Made a toy!\n",
      "Made a toy!\n",
      "Made a toy!\n",
      "Made a toy!\n",
      "Made a toy!\n",
      "Made a toy!\n",
      "Made a toy!\n",
      "Made a toy!\n",
      "Made a toy!\n",
      "Made a toy!\n",
      "Made a toy!\n",
      "Made a toy!\n",
      "Made a toy!\n",
      "Made a toy!\n",
      "Made a toy!\n",
      "Made a toy!\n",
      "Made a toy!\n",
      "Made a toy!\n",
      "Made a toy!\n",
      "Made a toy!\n",
      "Made a toy!\n",
      "Made a toy!\n",
      "Made a toy!\n",
      "Made a toy!\n",
      "Made a toy!\n",
      "Made a toy!\n",
      "Made a toy!\n",
      "Made a toy!\n",
      "Made a toy!\n",
      "Made a toy!\n",
      "Made a toy!\n",
      "Made a toy!\n",
      "Made a toy!\n",
      "Made a toy!\n",
      "Oh no, machine is spoilt. Machine generated 191 toys.\n",
      "Oh no, the worker didn't check the machine at 4pm. The machine made 191 toys.\n",
      "Oh no, the worker didn't check the machine at 6pm. The machine made 191 toys.\n"
     ]
    }
   ],
   "source": [
    "#This works because the worker only checks the machine once. If a worker checks the machine 6 times a day\n",
    "#Task: Update the code to reflect that the worker checks the machine 6 times a day. \n",
    "checkTimes = [\"8am\",\"10am\",\"12pm\",\"2pm\",\"4pm\",\"6pm\"]\n",
    "\n",
    "def generateToys(): \n",
    "    toyCount = 0\n",
    "    while random.randint(0,30) != 0: #!= means not equal to...\n",
    "        toyCount += 1\n",
    "        print(\"Made a toy!\")\n",
    "    return toyCount\n",
    "        \n",
    "def startMachine(): #for the moment the machine starts \n",
    "    count = 0 #starts with toy production\n",
    "    for i in range (0,6): #number of times the machine is checked - 6 times\n",
    "        if random.randint(1,10) < 7: #60% chance that the worker is present to restart the machine\n",
    "            print(\"Machine is started by worker at \" + checkTimes[i]+ \".\")\n",
    "            count+= generateToys()#relates count back to toyCount\n",
    "            print(\"Oh no, machine is spoilt. Machine generated \" + str(count) + \" toys.\")\n",
    "        else:\n",
    "            print(\"Oh no, the worker didn't check the machine at \"+ checkTimes[i]+\". The machine made \" + str(count) + \" toys.\")\n",
    "startMachine() #call the method"
   ]
  },
  {
   "cell_type": "code",
   "execution_count": null,
   "metadata": {},
   "outputs": [],
   "source": []
  },
  {
   "cell_type": "code",
   "execution_count": null,
   "metadata": {},
   "outputs": [],
   "source": []
  }
 ],
 "metadata": {
  "kernelspec": {
   "display_name": "Python 3",
   "language": "python",
   "name": "python3"
  },
  "language_info": {
   "codemirror_mode": {
    "name": "ipython",
    "version": 3
   },
   "file_extension": ".py",
   "mimetype": "text/x-python",
   "name": "python",
   "nbconvert_exporter": "python",
   "pygments_lexer": "ipython3",
   "version": "3.7.1"
  }
 },
 "nbformat": 4,
 "nbformat_minor": 2
}
