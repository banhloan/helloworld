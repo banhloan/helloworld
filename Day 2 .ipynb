{
 "cells": [
  {
   "cell_type": "code",
   "execution_count": null,
   "metadata": {},
   "outputs": [],
   "source": [
    "#learning basic data types\n",
    "\n",
    "#string, integer, float, boolean \n",
    "\n",
    "'jorden seet' #is a string\n",
    "\n",
    "\"jorden seet\" #is also a string\n",
    "\n",
    "1995 #is an integer \n",
    "\n",
    "200.31 #is a float \n",
    "\n",
    "#boolean has only two values \n",
    "\n",
    "True and False "
   ]
  },
  {
   "cell_type": "code",
   "execution_count": 1,
   "metadata": {},
   "outputs": [
    {
     "data": {
      "text/plain": [
       "int"
      ]
     },
     "execution_count": 1,
     "metadata": {},
     "output_type": "execute_result"
    }
   ],
   "source": [
    "#learning type casting\n",
    "toCheck = 1\n",
    "type(toCheck)"
   ]
  },
  {
   "cell_type": "code",
   "execution_count": 2,
   "metadata": {},
   "outputs": [
    {
     "data": {
      "text/plain": [
       "str"
      ]
     },
     "execution_count": 2,
     "metadata": {},
     "output_type": "execute_result"
    }
   ],
   "source": [
    "#Type casting changes the type of an element into our desired type. \n",
    "toCheck = str(toCheck) #make '1' a string\n",
    "type(toCheck)"
   ]
  },
  {
   "cell_type": "code",
   "execution_count": 3,
   "metadata": {},
   "outputs": [
    {
     "data": {
      "text/plain": [
       "int"
      ]
     },
     "execution_count": 3,
     "metadata": {},
     "output_type": "execute_result"
    }
   ],
   "source": [
    "toCheck = int(toCheck)\n",
    "type(toCheck)"
   ]
  },
  {
   "cell_type": "code",
   "execution_count": 4,
   "metadata": {},
   "outputs": [
    {
     "ename": "ValueError",
     "evalue": "invalid literal for int() with base 10: 'jorden'",
     "output_type": "error",
     "traceback": [
      "\u001b[0;31m---------------------------------------------------------------------------\u001b[0m",
      "\u001b[0;31mValueError\u001b[0m                                Traceback (most recent call last)",
      "\u001b[0;32m<ipython-input-4-7348f7549425>\u001b[0m in \u001b[0;36m<module>\u001b[0;34m\u001b[0m\n\u001b[0;32m----> 1\u001b[0;31m \u001b[0mtoCheck\u001b[0m \u001b[0;34m=\u001b[0m \u001b[0mint\u001b[0m\u001b[0;34m(\u001b[0m\u001b[0;34m\"jorden\"\u001b[0m\u001b[0;34m)\u001b[0m\u001b[0;34m\u001b[0m\u001b[0;34m\u001b[0m\u001b[0m\n\u001b[0m\u001b[1;32m      2\u001b[0m \u001b[0mtype\u001b[0m\u001b[0;34m(\u001b[0m\u001b[0mtoCheck\u001b[0m\u001b[0;34m)\u001b[0m\u001b[0;34m\u001b[0m\u001b[0;34m\u001b[0m\u001b[0m\n",
      "\u001b[0;31mValueError\u001b[0m: invalid literal for int() with base 10: 'jorden'"
     ]
    }
   ],
   "source": [
    "toCheck = int(\"jorden\") #since 'jorden' can't be an integer, this leads to an error\n",
    "type(toCheck)"
   ]
  },
  {
   "cell_type": "code",
   "execution_count": 7,
   "metadata": {},
   "outputs": [
    {
     "name": "stdout",
     "output_type": "stream",
     "text": [
      "<class 'int'>\n",
      "<class 'bool'>\n",
      "True\n"
     ]
    }
   ],
   "source": [
    "toCheck = 1\n",
    "print(type(toCheck))\n",
    "print(type(True))\n",
    "print(True == toCheck)"
   ]
  },
  {
   "cell_type": "code",
   "execution_count": 10,
   "metadata": {},
   "outputs": [
    {
     "name": "stdout",
     "output_type": "stream",
     "text": [
      "<class 'int'>\n",
      "<class 'bool'>\n",
      "False\n"
     ]
    }
   ],
   "source": [
    "#Is it \"True\" is assigned a value of 1...?\n",
    "toCheck = 2\n",
    "print(type(toCheck))\n",
    "print(type(True))\n",
    "print(True == toCheck)"
   ]
  },
  {
   "cell_type": "code",
   "execution_count": 12,
   "metadata": {},
   "outputs": [
    {
     "name": "stdout",
     "output_type": "stream",
     "text": [
      "<class 'int'>\n",
      "<class 'bool'>\n",
      "True\n"
     ]
    }
   ],
   "source": [
    "#Is it \"False\" is assigned a value of 0?\n",
    "toCheck = 0\n",
    "print(type(toCheck))\n",
    "print(type(False))\n",
    "print(False == toCheck)"
   ]
  },
  {
   "cell_type": "code",
   "execution_count": 19,
   "metadata": {},
   "outputs": [
    {
     "name": "stdout",
     "output_type": "stream",
     "text": [
      "False\n",
      "<class 'str'>\n",
      "<class 'int'>\n",
      "False\n"
     ]
    }
   ],
   "source": [
    "#\"==\" checks if the value is the same. If I want to check value and type to be the same, I can perhaps: \n",
    "print(type(toCheck) == type(False) and toCheck == False)\n",
    "#This only works for Boolean, Integer comparison. Python handles strict comparison for all other cases. \n",
    "#Strict comparison returns True only if value and type are the same.\n",
    "toCheck = '0'\n",
    "print(type(toCheck))\n",
    "print(type(0))\n",
    "print(0 == toCheck)"
   ]
  },
  {
   "cell_type": "code",
   "execution_count": 20,
   "metadata": {},
   "outputs": [
    {
     "name": "stdout",
     "output_type": "stream",
     "text": [
      "3.3333333333333335\n"
     ]
    }
   ],
   "source": [
    "print(10/3)\n",
    "#Maybe this will result in an error? "
   ]
  },
  {
   "cell_type": "code",
   "execution_count": 22,
   "metadata": {},
   "outputs": [
    {
     "name": "stdout",
     "output_type": "stream",
     "text": [
      "<class 'float'>\n",
      "3.0\n"
     ]
    }
   ],
   "source": [
    "#I was wrong haha! Division of two integers automatically type cast into a float.\n",
    "a = 10/3\n",
    "print(type(a))\n",
    "a = int(a)\n",
    "a = float(a)\n",
    "#the final value of a might be 3?\n",
    "print(a)\n",
    "#float always has a decimal point"
   ]
  },
  {
   "cell_type": "code",
   "execution_count": 24,
   "metadata": {},
   "outputs": [
    {
     "name": "stdout",
     "output_type": "stream",
     "text": [
      "[0]\n"
     ]
    }
   ],
   "source": [
    "#learning complex data types \n",
    "container = []\n",
    "#Learning list. A list contains items. To add things into a list, I have to use Append.\n",
    "container.append(0)\n",
    "print(container)"
   ]
  },
  {
   "cell_type": "code",
   "execution_count": 25,
   "metadata": {},
   "outputs": [
    {
     "name": "stdout",
     "output_type": "stream",
     "text": [
      "[0, 1, 2, 3, 4, 5, 6, 7, 8, 9]\n"
     ]
    }
   ],
   "source": [
    "#to add multiple items into a list, I can use a for loop. \n",
    "#I want to add 1 to 10 into the list. \n",
    "for i in range(1,10):\n",
    "    container.append(i)\n",
    "print(container)"
   ]
  },
  {
   "cell_type": "code",
   "execution_count": null,
   "metadata": {},
   "outputs": [],
   "source": [
    "#Why only until 9? Because Python subtracts one from the end of the range automatically to prevent Index Error.\n",
    "#Index Error occurs when Python tries to read an element that is outside the range of the list. "
   ]
  },
  {
   "cell_type": "code",
   "execution_count": 26,
   "metadata": {},
   "outputs": [
    {
     "ename": "IndexError",
     "evalue": "list index out of range",
     "output_type": "error",
     "traceback": [
      "\u001b[0;31m---------------------------------------------------------------------------\u001b[0m",
      "\u001b[0;31mIndexError\u001b[0m                                Traceback (most recent call last)",
      "\u001b[0;32m<ipython-input-26-401d66518758>\u001b[0m in \u001b[0;36m<module>\u001b[0;34m\u001b[0m\n\u001b[1;32m      1\u001b[0m \u001b[0mb\u001b[0m \u001b[0;34m=\u001b[0m \u001b[0;34m[\u001b[0m\u001b[0;36m1\u001b[0m\u001b[0;34m,\u001b[0m\u001b[0;36m2\u001b[0m\u001b[0;34m,\u001b[0m\u001b[0;36m3\u001b[0m\u001b[0;34m]\u001b[0m\u001b[0;34m\u001b[0m\u001b[0;34m\u001b[0m\u001b[0m\n\u001b[0;32m----> 2\u001b[0;31m \u001b[0mprint\u001b[0m\u001b[0;34m(\u001b[0m\u001b[0mb\u001b[0m\u001b[0;34m[\u001b[0m\u001b[0;36m3\u001b[0m\u001b[0;34m]\u001b[0m\u001b[0;34m)\u001b[0m\u001b[0;34m\u001b[0m\u001b[0;34m\u001b[0m\u001b[0m\n\u001b[0m",
      "\u001b[0;31mIndexError\u001b[0m: list index out of range"
     ]
    }
   ],
   "source": [
    "#Take this for example. \n",
    "b = [1,2,3]\n",
    "#b has 3 items. The size of this list is 3. \n",
    "#However, Python uses zero-based indexing. This means that the position (or Index) of the first item is zero. \n",
    "print(b[3])\n",
    "#This should fail because there is no item with Index '3' on the list."
   ]
  },
  {
   "cell_type": "code",
   "execution_count": 32,
   "metadata": {},
   "outputs": [
    {
     "name": "stdout",
     "output_type": "stream",
     "text": [
      "1\n"
     ]
    }
   ],
   "source": [
    "#To retrieve an element from a list: \n",
    "print(b[0])"
   ]
  },
  {
   "cell_type": "code",
   "execution_count": 33,
   "metadata": {},
   "outputs": [
    {
     "name": "stdout",
     "output_type": "stream",
     "text": [
      "{'apple': 3}\n"
     ]
    }
   ],
   "source": [
    "#Learning dictionary. A dictionary traditionally is a book with an entry and a definition. \n",
    "#The definition will correspond to an entry, while each entry is definitely unique. \n",
    "#In coding, an entry is called a key. A definition is called a value. \n",
    "dictionary = {}\n",
    "#Let's make a shopping cart!!!!! \n",
    "shoppingCart = {}\n",
    "#To add an item into my shopping cart, I need the key and the value of the item I will add.\n",
    "#For example, if I want to add an apple, which costs $3, into my shopping cart: \n",
    "shoppingCart[\"apple\"] = 3\n",
    "print(shoppingCart)"
   ]
  },
  {
   "cell_type": "code",
   "execution_count": 34,
   "metadata": {},
   "outputs": [
    {
     "name": "stdout",
     "output_type": "stream",
     "text": [
      "{'apple': 3, 'fish': 1, 'comb': 2.3, 'pork': '3', 'beef': 4, 'egg': 5, 'oil': 6, 'milk': 7, 'bread': 8, 'poire': 9, 'condom': 10}\n"
     ]
    }
   ],
   "source": [
    "#Let's say I have 10 items to add to the shopping cart. It can be troublesome to add all 10 items the way I did. \n",
    "#Let's find a simpler way to add these items using lists and for loop \n",
    "items = [\"fish\",\"comb\",\"pork\",\"beef\",\"egg\",'oil','milk','bread','poire','condom']\n",
    "prices = [1,2.3,'3',4,5,6,7,8,9,10]\n",
    "for i in range(len(items)): #len gives me the size of the items in a data type. Len is short form for length.\n",
    "    shoppingCart[items[i]] = prices[i]\n",
    "print(shoppingCart)\n",
    "    "
   ]
  },
  {
   "cell_type": "code",
   "execution_count": 49,
   "metadata": {},
   "outputs": [
    {
     "name": "stdout",
     "output_type": "stream",
     "text": [
      "{'name': 'Loan', 'age': 23, 'single': False, 'height': 1.64, 'favourite songs': ['Careless Whispers', \"Girl's Generation\"]}\n"
     ]
    }
   ],
   "source": [
    "#I can also initialise and instantiate a dictionary with values. \n",
    "#Initialise means I create an empty variable - just the variable name. In Python, this will show an error. \n",
    "#Hence, I have to instantiate a variable. Instantiate means giving a variable a value to start with. \n",
    "me = {\"name\":\"Loan\",\"age\":23,\"single\":False,\"height\":1.64,'favourite songs':[\"Careless Whispers\",\"Girl's Generation\"]}\n",
    "print(me)\n"
   ]
  },
  {
   "cell_type": "code",
   "execution_count": 50,
   "metadata": {},
   "outputs": [
    {
     "name": "stdout",
     "output_type": "stream",
     "text": [
      "{'name': 'Loan', 'age': 23, 'single': False, 'height': 1.64, 'favourite songs': ['Careless Whispers', \"Girl's Generation\"], 'shoppingCart': {'apple': 3, 'fish': 1, 'comb': 2.3, 'pork': '3', 'beef': 4, 'egg': 5, 'oil': 6, 'milk': 7, 'bread': 8, 'poire': 9, 'condom': 10}}\n"
     ]
    }
   ],
   "source": [
    "#I can even have a dictionary inside a dictionary. \n",
    "me[\"shoppingCart\"] = shoppingCart\n",
    "print(me)"
   ]
  },
  {
   "cell_type": "code",
   "execution_count": 51,
   "metadata": {},
   "outputs": [
    {
     "name": "stdout",
     "output_type": "stream",
     "text": [
      "['Careless Whispers', \"Girl's Generation\"]\n",
      "['Careless Whispers']\n"
     ]
    }
   ],
   "source": [
    "#Learning tuples \n",
    "#Tuples is like a list, except you cannot edit the content of a tuple. \n",
    "songs = me['favourite songs']\n",
    "print(songs)\n",
    "#If I dislike Girl's Generation, I can remove it from the list. \n",
    "# songs.remove(\"Girl's Generation\")\n",
    "songs.pop(1) #Another way is to remove by index\n",
    "print(songs)"
   ]
  },
  {
   "cell_type": "code",
   "execution_count": 55,
   "metadata": {},
   "outputs": [
    {
     "name": "stdout",
     "output_type": "stream",
     "text": [
      "['My Love', 'My Love', 'My Love', 'Careless Whispers', 'Haru Haru', 'Haru Haru']\n"
     ]
    }
   ],
   "source": [
    "#If I now like to listen to My Love and I want it to be index 0: \n",
    "songs.insert(0,\"My Love\")\n",
    "songs.append(\"Haru Haru\")\n",
    "print(songs)"
   ]
  },
  {
   "cell_type": "code",
   "execution_count": 57,
   "metadata": {},
   "outputs": [
    {
     "name": "stdout",
     "output_type": "stream",
     "text": [
      "['My Love', 'Careless Whispers', 'Haru Haru']\n"
     ]
    }
   ],
   "source": [
    "#code to remove an error I made. I ran the previous cell multiple times and had duplicate elements. \n",
    "unwanted = [0, 1, 5] \n",
    "  \n",
    "for ele in sorted(unwanted, reverse = True):  \n",
    "    del songs[ele]  \n",
    "print(songs)"
   ]
  },
  {
   "cell_type": "code",
   "execution_count": 58,
   "metadata": {},
   "outputs": [
    {
     "name": "stdout",
     "output_type": "stream",
     "text": [
      "('Careless Whispers', \"Girl's Generation\")\n"
     ]
    }
   ],
   "source": [
    "#However, in a tuple, I cannot edit the element. \n",
    "songs2 = ('Careless Whispers', \"Girl's Generation\")\n",
    "print(songs2)"
   ]
  },
  {
   "cell_type": "code",
   "execution_count": 59,
   "metadata": {},
   "outputs": [
    {
     "ename": "AttributeError",
     "evalue": "'tuple' object has no attribute 'remove'",
     "output_type": "error",
     "traceback": [
      "\u001b[0;31m---------------------------------------------------------------------------\u001b[0m",
      "\u001b[0;31mAttributeError\u001b[0m                            Traceback (most recent call last)",
      "\u001b[0;32m<ipython-input-59-dc0c91d33c14>\u001b[0m in \u001b[0;36m<module>\u001b[0;34m\u001b[0m\n\u001b[0;32m----> 1\u001b[0;31m \u001b[0msongs2\u001b[0m\u001b[0;34m.\u001b[0m\u001b[0mremove\u001b[0m\u001b[0;34m(\u001b[0m\u001b[0;34m\"Careless Whispers\"\u001b[0m\u001b[0;34m)\u001b[0m\u001b[0;34m\u001b[0m\u001b[0;34m\u001b[0m\u001b[0m\n\u001b[0m\u001b[1;32m      2\u001b[0m \u001b[0mprint\u001b[0m\u001b[0;34m(\u001b[0m\u001b[0msongs2\u001b[0m\u001b[0;34m)\u001b[0m\u001b[0;34m\u001b[0m\u001b[0;34m\u001b[0m\u001b[0m\n",
      "\u001b[0;31mAttributeError\u001b[0m: 'tuple' object has no attribute 'remove'"
     ]
    }
   ],
   "source": [
    "songs2.remove(\"Careless Whispers\")\n",
    "print(songs2)"
   ]
  },
  {
   "cell_type": "code",
   "execution_count": 60,
   "metadata": {},
   "outputs": [
    {
     "ename": "AttributeError",
     "evalue": "'tuple' object has no attribute 'append'",
     "output_type": "error",
     "traceback": [
      "\u001b[0;31m---------------------------------------------------------------------------\u001b[0m",
      "\u001b[0;31mAttributeError\u001b[0m                            Traceback (most recent call last)",
      "\u001b[0;32m<ipython-input-60-dcc01fd34ec3>\u001b[0m in \u001b[0;36m<module>\u001b[0;34m\u001b[0m\n\u001b[0;32m----> 1\u001b[0;31m \u001b[0msongs2\u001b[0m\u001b[0;34m.\u001b[0m\u001b[0mappend\u001b[0m\u001b[0;34m(\u001b[0m\u001b[0;34m\"Haru Haru\"\u001b[0m\u001b[0;34m)\u001b[0m\u001b[0;34m\u001b[0m\u001b[0;34m\u001b[0m\u001b[0m\n\u001b[0m",
      "\u001b[0;31mAttributeError\u001b[0m: 'tuple' object has no attribute 'append'"
     ]
    }
   ],
   "source": [
    "songs2.append(\"Haru Haru\")"
   ]
  },
  {
   "cell_type": "code",
   "execution_count": 61,
   "metadata": {},
   "outputs": [
    {
     "name": "stdout",
     "output_type": "stream",
     "text": [
      "('My Love', 'Careless Whispers', 'Haru Haru')\n"
     ]
    }
   ],
   "source": [
    "#Can I make a list into a tuple? \n",
    "songs = tuple(songs)\n",
    "print(songs)"
   ]
  },
  {
   "cell_type": "code",
   "execution_count": 62,
   "metadata": {},
   "outputs": [
    {
     "name": "stdout",
     "output_type": "stream",
     "text": [
      "['Careless Whispers', \"Girl's Generation\"]\n"
     ]
    }
   ],
   "source": [
    "#Can I make tuple into a list?\n",
    "songs2 = list(songs2)\n",
    "print(songs2)"
   ]
  },
  {
   "cell_type": "code",
   "execution_count": null,
   "metadata": {},
   "outputs": [],
   "source": []
  }
 ],
 "metadata": {
  "kernelspec": {
   "display_name": "Python 3",
   "language": "python",
   "name": "python3"
  },
  "language_info": {
   "codemirror_mode": {
    "name": "ipython",
    "version": 3
   },
   "file_extension": ".py",
   "mimetype": "text/x-python",
   "name": "python",
   "nbconvert_exporter": "python",
   "pygments_lexer": "ipython3",
   "version": "3.7.1"
  }
 },
 "nbformat": 4,
 "nbformat_minor": 2
}
