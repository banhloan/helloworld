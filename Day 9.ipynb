{
 "cells": [
  {
   "cell_type": "code",
   "execution_count": 1,
   "metadata": {},
   "outputs": [
    {
     "name": "stdout",
     "output_type": "stream",
     "text": [
      "Hello World\n",
      "Hello World\n",
      "Hello World\n",
      "Hello World\n",
      "Hello World\n"
     ]
    }
   ],
   "source": [
    "spam = 0 \n",
    "while spam <5: \n",
    "    print('Hello World')\n",
    "    spam += 1\n",
    "    "
   ]
  },
  {
   "cell_type": "code",
   "execution_count": 2,
   "metadata": {},
   "outputs": [
    {
     "name": "stdout",
     "output_type": "stream",
     "text": [
      "Please type your name\n",
      "Loan\n",
      "Please type your name\n",
      "your name\n",
      "Thank you\n"
     ]
    }
   ],
   "source": [
    "name = ''\n",
    "while name != 'your name':\n",
    "    print('Please type your name')\n",
    "    name = input()\n",
    "print('Thank you')"
   ]
  },
  {
   "cell_type": "code",
   "execution_count": 3,
   "metadata": {},
   "outputs": [
    {
     "name": "stdout",
     "output_type": "stream",
     "text": [
      "My name is\n",
      "Loan times 0\n",
      "Loan times 1\n",
      "Loan times 2\n",
      "Loan times 3\n",
      "Loan times 4\n",
      "Loan times 5\n",
      "Loan times 6\n",
      "Loan times 7\n",
      "Loan times 8\n",
      "Loan times 9\n"
     ]
    }
   ],
   "source": [
    "print('My name is')\n",
    "for i in range(10):\n",
    "    print('Loan times ' + str(i))"
   ]
  },
  {
   "cell_type": "code",
   "execution_count": 4,
   "metadata": {},
   "outputs": [
    {
     "name": "stdout",
     "output_type": "stream",
     "text": [
      "5050\n"
     ]
    }
   ],
   "source": [
    "total = 0 \n",
    "for num in range(101):\n",
    "    total += num \n",
    "print(total)"
   ]
  },
  {
   "cell_type": "code",
   "execution_count": 2,
   "metadata": {},
   "outputs": [
    {
     "data": {
      "text/plain": [
       "100"
      ]
     },
     "execution_count": 2,
     "metadata": {},
     "output_type": "execute_result"
    }
   ],
   "source": [
    "def square(number):\n",
    "    return number*number\n",
    "square(10)"
   ]
  },
  {
   "cell_type": "code",
   "execution_count": 1,
   "metadata": {},
   "outputs": [
    {
     "data": {
      "text/plain": [
       "2.0"
      ]
     },
     "execution_count": 1,
     "metadata": {},
     "output_type": "execute_result"
    }
   ],
   "source": [
    "def divideby42(divideby): \n",
    "    return 42/divideby\n",
    "\n",
    "divideby42(21)"
   ]
  },
  {
   "cell_type": "code",
   "execution_count": 2,
   "metadata": {},
   "outputs": [],
   "source": [
    "import random"
   ]
  },
  {
   "cell_type": "code",
   "execution_count": 5,
   "metadata": {},
   "outputs": [
    {
     "name": "stdout",
     "output_type": "stream",
     "text": [
      "Bonjour, what is your name?\n",
      "Loan\n",
      "Loan, I am thinking of a number between 1 and 20.\n",
      "Take a guess\n",
      "15\n",
      "You have taken 1 guesses\n",
      "Your guess is too high.\n",
      "Take a guess\n",
      "10\n",
      "You have taken 2 guesses\n",
      "Your guess is too high.\n",
      "Take a guess\n",
      "8\n",
      "You have taken 3 guesses\n",
      "Your guess is too high.\n",
      "Take a guess\n",
      "5\n",
      "You have taken 4 guesses\n",
      "Your guess is too high.\n",
      "Take a guess\n",
      "3\n",
      "You have taken 5 guesses\n",
      "Your guess is too high.\n",
      "Take a guess\n",
      "2\n",
      "You have taken 6 guesses\n",
      "Your guess is too high.\n",
      "You have run out of guesses. The number I was thinking of is 1\n"
     ]
    }
   ],
   "source": [
    "print('Bonjour, what is your name?')\n",
    "name = input()\n",
    "print(str(name) + ', I am thinking of a number between 1 and 20.')\n",
    "number = random.randint(1,20)\n",
    "\n",
    "for guessesTaken in range(1,7):\n",
    "    print('Take a guess')\n",
    "    try: \n",
    "        guess = int(input())\n",
    "        print('You have taken ' + str(guessesTaken) + ' guesses')        \n",
    "        if guess < number: \n",
    "            print('Your guess is too low.')\n",
    "        elif guess > number: \n",
    "            print('Your guess is too high.')\n",
    "        else: \n",
    "            break \n",
    "        \n",
    "    except(ValueError): \n",
    "        print('You have taken ' + str(guessesTaken) + ' guesses')\n",
    "        print('You need to key in an integer between 1 and 20')\n",
    "        \n",
    "        \n",
    "if guess == number: \n",
    "    print('Good job! You guessed my number correctly in ' + str(guessesTaken) + ' guesses.')\n",
    "else: \n",
    "    print('You have run out of guesses. The number I was thinking of is ' + str(number))\n",
    "    "
   ]
  },
  {
   "cell_type": "code",
   "execution_count": 1,
   "metadata": {},
   "outputs": [],
   "source": [
    "import pprint"
   ]
  },
  {
   "cell_type": "code",
   "execution_count": 3,
   "metadata": {},
   "outputs": [
    {
     "name": "stdout",
     "output_type": "stream",
     "text": [
      "{'\\n': 32,\n",
      " ' ': 351,\n",
      " '!': 1,\n",
      " '\"': 4,\n",
      " \"'\": 6,\n",
      " '(': 1,\n",
      " ')': 1,\n",
      " ',': 19,\n",
      " '-': 2,\n",
      " '.': 22,\n",
      " '/': 1,\n",
      " ':': 3,\n",
      " '?': 1,\n",
      " 'A': 145,\n",
      " 'B': 28,\n",
      " 'C': 74,\n",
      " 'D': 69,\n",
      " 'E': 202,\n",
      " 'F': 37,\n",
      " 'G': 54,\n",
      " 'H': 62,\n",
      " 'I': 128,\n",
      " 'J': 2,\n",
      " 'K': 17,\n",
      " 'L': 82,\n",
      " 'M': 57,\n",
      " 'N': 128,\n",
      " 'O': 181,\n",
      " 'P': 72,\n",
      " 'Q': 5,\n",
      " 'R': 156,\n",
      " 'S': 151,\n",
      " 'T': 185,\n",
      " 'U': 79,\n",
      " 'V': 15,\n",
      " 'W': 44,\n",
      " 'X': 7,\n",
      " 'Y': 34,\n",
      " '’': 1}\n"
     ]
    }
   ],
   "source": [
    "message = '''\n",
    "If you're an office worker, student, administrator, or just want to become more productive with your computer, programming will allow you write code that can automate tedious tasks. This course follows the popular (and free!) book, Automate the Boring Stuff with Python.\n",
    "\n",
    "Automate the Boring Stuff with Python was written for people who want to get up to speed writing small programs that do practical tasks as soon as possible. You don't need to know sorting algorithms or object-oriented programming, so this course skips all the computer science and concentrates on writing code that gets stuff done.\n",
    "\n",
    "This course is for complete beginners and covers the popular Python programming language. You'll learn basic concepts as well as:\n",
    "\n",
    "Web scraping\n",
    "Parsing PDFs and Excel spreadsheets\n",
    "Automating the keyboard and mouse\n",
    "Sending emails and texts\n",
    "And several other practical topics\n",
    "By the end of this course, you'll be able to write code that not only dramatically increases your productivity, but also be able to list this fun and creative skill on your resume.\n",
    "\n",
    "What you’ll learn\n",
    "Automate tasks on their computer by writing simple Python programs.\n",
    "Write programs that can do text pattern recognition with \"regular expressions\".\n",
    "Programmatically generate and update Excel spreadsheets.\n",
    "Parse PDFs and Word documents.\n",
    "Crawl web sites and pull information from online sources.\n",
    "Write programs that send out email notifications.\n",
    "Use Python's debugging tools to quickly figure out bugs in your code.\n",
    "Programmatically control the mouse and keyboard to click and type for you.\n",
    "Are there any course requirements or prerequisites?\n",
    "No programming experience is required.\n",
    "Downloading and installing Python is covered at the start of the course.\n",
    "Basic computer skills: surfing websites, running programs, saving and opening documents, etc.\n",
    "Who this course is for:\n",
    "Office workers, students, small/home business workers, and administrators would want to improve their productivity.\n",
    "Aspiring software engineers who want to add skills to their programming toolbelt.\n",
    "Computer users who have heard the \"learn to code\" message, but want practical reasons to learn programming.\n",
    "Experienced Python software engineers can skip the first half of the course, but may find the later parts that cover various third-party modules helpful.\n",
    "While this course doesn't cover specific devops tools, this course would be useful for QA, devops, and admins who want to learn scripting in Python.'''\n",
    "count = {}\n",
    "\n",
    "for character in message.upper():\n",
    "    count.setdefault(character,0)\n",
    "    count[character] = count[character] + 1\n",
    "    \n",
    "pprint.pprint(count)"
   ]
  },
  {
   "cell_type": "code",
   "execution_count": 4,
   "metadata": {},
   "outputs": [
    {
     "data": {
      "text/plain": [
       "'Hello Loan, please join us for a party this Saturday at 9pm. Go to 87 Zion Road and please bring along some alcohol'"
      ]
     },
     "execution_count": 4,
     "metadata": {},
     "output_type": "execute_result"
    }
   ],
   "source": [
    "name = 'Loan'\n",
    "time = '9pm'\n",
    "place = '87 Zion Road'\n",
    "food = 'alcohol'\n",
    "'Hello %s, please join us for a party this Saturday at %s. Go to %s and please bring along some %s' % (name, time, place, food)"
   ]
  },
  {
   "cell_type": "code",
   "execution_count": null,
   "metadata": {},
   "outputs": [],
   "source": []
  }
 ],
 "metadata": {
  "kernelspec": {
   "display_name": "Python 3",
   "language": "python",
   "name": "python3"
  },
  "language_info": {
   "codemirror_mode": {
    "name": "ipython",
    "version": 3
   },
   "file_extension": ".py",
   "mimetype": "text/x-python",
   "name": "python",
   "nbconvert_exporter": "python",
   "pygments_lexer": "ipython3",
   "version": "3.7.1"
  }
 },
 "nbformat": 4,
 "nbformat_minor": 2
}
