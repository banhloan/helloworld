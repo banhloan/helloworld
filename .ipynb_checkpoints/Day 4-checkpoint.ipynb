{
 "cells": [
  {
   "cell_type": "markdown",
   "metadata": {},
   "source": [
    "Vending Machine\n",
    "======================\n",
    "1. Create a Vending Machine class. This vending machine initialises an empty dictionary called \"drinks\", and an empty dictionary called prices\n",
    "\n",
    "drinks is a dictionary with a key value pairing of the drink name and the quantity left in the vending machine, while prices is a dictionary with a key value pairing of the drink name and the corresponding price\n",
    "\n",
    "The Vending Machine class has three methods: \n",
    "a) a method called \"restock()\" which takes in a list of drink names, and a list of numbers that corresponds to how much of the drinks is added.\n",
    "\n",
    "For example, restock(['Coca Cola','Sprite','Pepsi'],[3,4,5]) should restock 3 coca colas, 4 sprites and 5 pepsis into the vending machine.\n",
    "\n",
    "b) a method called updatePrices() which should take in a list of drink names, adnd a list of prices that corresponds to how much the drink costs.\n",
    "\n",
    "c) pay(), which takes in the drink name, and how much is paid to the machine. \n",
    "\n",
    "If the amount paid for the drink is correct, and there are sufficient drinks in the machine, then you should deduct one of that drink and return 0.\n",
    "\n",
    "If the amount paid for the drink is too much, you should deduct one of that drink and return the change\n",
    "\n",
    "If the amount paid for the drink is too little, you should return the amount paid and not deduct any drinks at all."
   ]
  },
  {
   "cell_type": "code",
   "execution_count": 89,
   "metadata": {},
   "outputs": [],
   "source": [
    "class VendingMachine:\n",
    "    def __init__(self,drinks,prices):\n",
    "        self.drinks = drinks\n",
    "        self.prices = prices\n",
    "    \n",
    "    def restock(self,items,numbers): \n",
    "        for i in range(len(items)):\n",
    "            \n",
    "            currentQty = self.drinks[items[i]] \n",
    "            newQty = currentQty + numbers[i]\n",
    "            self.drinks[items[i]] = newQty\n",
    "            \n",
    "#         print(self.drinks)\n",
    "        \n",
    "    def updatePrices(self,items,prix):\n",
    "        for i in range(len(items)):\n",
    "            self.prices[items[i]] = prix[i]\n",
    "#         print(self.prices)\n",
    "    \n",
    "    def pay(self,nameOfDrink,amountPaid):\n",
    "        if self.prices[nameOfDrink] == amountPaid and self.drinks[nameOfDrink] > 0:\n",
    "            self.drinks[nameOfDrink] = self.drinks[nameOfDrink] - 1\n",
    "#             print(0)\n",
    "            return 0 \n",
    "       \n",
    "        elif self.prices[nameOfDrink] < amountPaid and self.drinks[nameOfDrink] > 0:\n",
    "            change = amountPaid - self.prices[nameOfDrink]\n",
    "            self.drinks[nameOfDrink] = self.drinks[nameOfDrink] - 1\n",
    "#             print(change)\n",
    "            return change \n",
    "        \n",
    "        else:\n",
    "            return amountPaid\n",
    "        "
   ]
  },
  {
   "cell_type": "code",
   "execution_count": 73,
   "metadata": {},
   "outputs": [
    {
     "name": "stdout",
     "output_type": "stream",
     "text": [
      "{'Coca Cola': 6, 'Sprite': 8, 'Pepsi': 10}\n",
      "{'Coca Cola': 3, 'Sprite': 4, 'Pepsi': 5}\n"
     ]
    }
   ],
   "source": [
    "beverages = {\"Coca Cola\":3,\"Sprite\":4,\"Pepsi\":5}\n",
    "cost = {\"Coca Cola\":10,\"Sprite\":11,\"Pepsi\":12}\n",
    "\n",
    "vm = VendingMachine(beverages,cost)\n",
    "vm.restock(['Coca Cola','Sprite','Pepsi'],[3,4,5])\n",
    "vm.updatePrices(['Coca Cola','Sprite','Pepsi'],[3,4,5])"
   ]
  },
  {
   "cell_type": "code",
   "execution_count": 74,
   "metadata": {},
   "outputs": [
    {
     "name": "stdout",
     "output_type": "stream",
     "text": [
      "0\n",
      "{'Coca Cola': 6, 'Sprite': 8, 'Pepsi': 9}\n"
     ]
    }
   ],
   "source": [
    "vm.pay(\"Pepsi\",5)\n",
    "print(vm.drinks)"
   ]
  },
  {
   "cell_type": "code",
   "execution_count": 75,
   "metadata": {},
   "outputs": [
    {
     "name": "stdout",
     "output_type": "stream",
     "text": [
      "2\n",
      "{'Coca Cola': 6, 'Sprite': 7, 'Pepsi': 9}\n"
     ]
    }
   ],
   "source": [
    "vm.pay(\"Sprite\",6)\n",
    "print(vm.drinks)"
   ]
  },
  {
   "cell_type": "code",
   "execution_count": 76,
   "metadata": {},
   "outputs": [
    {
     "data": {
      "text/plain": [
       "2"
      ]
     },
     "execution_count": 76,
     "metadata": {},
     "output_type": "execute_result"
    }
   ],
   "source": [
    "vm.pay(\"Coca Cola\",2)"
   ]
  },
  {
   "cell_type": "code",
   "execution_count": 95,
   "metadata": {},
   "outputs": [
    {
     "name": "stdout",
     "output_type": "stream",
     "text": [
      "Testing Constructor\n",
      "Constructor test passed\n",
      "\n",
      "======================\n",
      "Testing pay methods...\n",
      "First test\n",
      "Passed == payment check\n",
      "\n",
      "======================\n",
      "Second test\n",
      "Passed > check\n",
      "\n",
      "======================\n",
      "Third test\n",
      "Passed < check\n",
      "\n",
      "======================\n",
      "Testing Restock\n",
      "Passed restock test\n"
     ]
    }
   ],
   "source": [
    "qty = {'The Alley':10,'Gong Cha':17,'Each a Cup':21,'R&B':2}\n",
    "prices = {'The Alley':5,'Gong Cha':4,'Each a Cup':3,'R&B':5}\n",
    "# Testing constructor\n",
    "print(\"Testing Constructor\")\n",
    "try:\n",
    "    test = VendingMachine(qty,prices)\n",
    "except:\n",
    "    print(\"Constructor test failed\")\n",
    "print(\"Constructor test passed\")\n",
    "wallet = 50\n",
    "craving = 'Gong Cha'\n",
    "# testing pay method\n",
    "print()\n",
    "print(\"======================\")\n",
    "print(\"Testing pay methods...\")\n",
    "print(\"First test\")\n",
    "gongChas = 0\n",
    "damage = prices[craving]\n",
    "passed = True\n",
    "\n",
    "while(wallet > damage):\n",
    "    gongChas +=1\n",
    "    change = test.pay(craving,damage)\n",
    "    wallet -= damage\n",
    "    wallet += change\n",
    "\n",
    "if(gongChas != 12):\n",
    "    print(\"Expected remaining \"+ craving + \"s is \" + str(12))\n",
    "    print(\"Actual remaining: \" + str(gongChas))\n",
    "    passed = False\n",
    "    \n",
    "else:\n",
    "    print(\"Passed == payment check\")\n",
    "\n",
    "print()\n",
    "print(\"======================\")\n",
    "print(\"Second test\")\n",
    "wallet2 = 100\n",
    "change = test.pay('Each a Cup',wallet2)\n",
    "\n",
    "if(change!=97):\n",
    "    print(\"Expected remaining cash is 97\")\n",
    "    print(\"Actual remaining cash is \" + str(change))\n",
    "else:\n",
    "    print(\"Passed > check\")\n",
    "\n",
    "\n",
    "print()\n",
    "print(\"======================\")\n",
    "print(\"Third test\")\n",
    "wallet3 = 2\n",
    "change = test.pay(\"R&B\",wallet3)\n",
    "if(change!=2):\n",
    "    print(\"Expected Change is 2\")\n",
    "    print(\"Actual change is \" + change)\n",
    "else:\n",
    "    print(\"Passed < check\")\n",
    "    \n",
    "print()\n",
    "print(\"======================\")\n",
    "print(\"Testing Restock\")\n",
    "delivery = \"The Alley\"\n",
    "test.restock([delivery],[81])\n",
    "if(test.drinks[delivery] != 91):\n",
    "    print(\"Expected qty is 91\")\n",
    "    print(\"Actual qty is \" + test.drinks[delivery])\n",
    "else:\n",
    "    print(\"Passed restock test\")"
   ]
  },
  {
   "cell_type": "code",
   "execution_count": null,
   "metadata": {},
   "outputs": [],
   "source": []
  },
  {
   "cell_type": "code",
   "execution_count": null,
   "metadata": {},
   "outputs": [],
   "source": []
  }
 ],
 "metadata": {
  "kernelspec": {
   "display_name": "Python 3",
   "language": "python",
   "name": "python3"
  },
  "language_info": {
   "codemirror_mode": {
    "name": "ipython",
    "version": 3
   },
   "file_extension": ".py",
   "mimetype": "text/x-python",
   "name": "python",
   "nbconvert_exporter": "python",
   "pygments_lexer": "ipython3",
   "version": "3.7.1"
  }
 },
 "nbformat": 4,
 "nbformat_minor": 2
}
