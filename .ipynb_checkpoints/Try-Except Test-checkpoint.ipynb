{
 "cells": [
  {
   "cell_type": "markdown",
   "metadata": {},
   "source": [
    "In this assignment, you are not allowed to alter the line written.\n",
    "\n",
    "You may, however, reindent the code and write code above and below it.\n",
    "\n",
    "In all cases, your aim is to make the code compile successfully and execute the expected behaviour"
   ]
  },
  {
   "cell_type": "code",
   "execution_count": 1,
   "metadata": {},
   "outputs": [],
   "source": [
    "# imports\n",
    "# There is nothing to do in this cell\n",
    "from random import randrange"
   ]
  },
  {
   "cell_type": "code",
   "execution_count": 5,
   "metadata": {},
   "outputs": [
    {
     "name": "stdout",
     "output_type": "stream",
     "text": [
      "There is no more items\n"
     ]
    }
   ],
   "source": [
    "# Print \"There is no more items\"\n",
    "desiredItem = 7\n",
    "items = [\"Water Bottle\",\"Sweater\",\"Laptop\",\"Cookies\",\"Spectacles\",\"Flowers\",\"Paper\"]\n",
    "try:\n",
    "    print(items[7])\n",
    "except IndexError:\n",
    "    print(\"There is no more items\")\n"
   ]
  },
  {
   "cell_type": "code",
   "execution_count": 8,
   "metadata": {},
   "outputs": [
    {
     "name": "stdout",
     "output_type": "stream",
     "text": [
      "27\n"
     ]
    }
   ],
   "source": [
    "# print the numberOfLoops ignoring all Zero Division Errors\n",
    "numerator = 1\n",
    "denominator = 1\n",
    "numberOfLoops = 0\n",
    "try:\n",
    "    while numerator/denominator >= 0:\n",
    "        numerator = randrange(0,10)\n",
    "        denominator= randrange(0,10)\n",
    "        numberOfLoops+=1\n",
    "except ZeroDivisionError:\n",
    "    print(numberOfLoops)"
   ]
  },
  {
   "cell_type": "code",
   "execution_count": 55,
   "metadata": {},
   "outputs": [
    {
     "name": "stdout",
     "output_type": "stream",
     "text": [
      "The number of steps are 2957\n"
     ]
    }
   ],
   "source": [
    "global steps\n",
    "steps = 0\n",
    "\n",
    "# Print the number of steps prior to the error\n",
    "# Hint: Only one line causes the error. Identify that line and handle it.\n",
    "\n",
    "def recurse(a,b):\n",
    "    c = randrange(0,a+1)\n",
    "    if c!=b:\n",
    "        global steps\n",
    "        steps+=1  \n",
    "        try: \n",
    "            recurse(c,b)\n",
    "        except RecursionError:\n",
    "            print(\"The number of steps are \" + str(steps))\n",
    "recurse(10,7)"
   ]
  },
  {
   "cell_type": "code",
   "execution_count": null,
   "metadata": {},
   "outputs": [],
   "source": []
  }
 ],
 "metadata": {
  "kernelspec": {
   "display_name": "Python 3",
   "language": "python",
   "name": "python3"
  },
  "language_info": {
   "codemirror_mode": {
    "name": "ipython",
    "version": 3
   },
   "file_extension": ".py",
   "mimetype": "text/x-python",
   "name": "python",
   "nbconvert_exporter": "python",
   "pygments_lexer": "ipython3",
   "version": "3.7.1"
  }
 },
 "nbformat": 4,
 "nbformat_minor": 2
}
